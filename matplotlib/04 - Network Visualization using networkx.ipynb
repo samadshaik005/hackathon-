{
 "cells": [
  {
   "cell_type": "markdown",
   "metadata": {},
   "source": [
    "# Network Visualization using networkx - Neerja Doshi"
   ]
  },
  {
   "cell_type": "markdown",
   "metadata": {},
   "source": [
    "## Answer 1"
   ]
  },
  {
   "cell_type": "code",
   "execution_count": 31,
   "metadata": {},
   "outputs": [
    {
     "data": {
      "text/html": [
       "<script>requirejs.config({paths: { 'plotly': ['https://cdn.plot.ly/plotly-latest.min']},});if(!window.Plotly) {{require(['plotly'],function(plotly) {window.Plotly=plotly;});}}</script>"
      ],
      "text/vnd.plotly.v1+html": [
       "<script>requirejs.config({paths: { 'plotly': ['https://cdn.plot.ly/plotly-latest.min']},});if(!window.Plotly) {{require(['plotly'],function(plotly) {window.Plotly=plotly;});}}</script>"
      ]
     },
     "metadata": {},
     "output_type": "display_data"
    }
   ],
   "source": [
    "import pandas as pd\n",
    "import networkx as nx\n",
    "import matplotlib.pyplot as plt\n",
    "import numpy as np\n",
    "import jgraph\n",
    "from operator import itemgetter, attrgetter\n",
    "import matplotlib.pyplot as plt\n",
    "import itertools\n",
    "from plotly.offline import download_plotlyjs, init_notebook_mode,  iplot, plot\n",
    "\n",
    "import plotly.plotly as py\n",
    "from plotly.graph_objs import *\n",
    "\n",
    "init_notebook_mode(True)"
   ]
  },
  {
   "cell_type": "code",
   "execution_count": 2,
   "metadata": {},
   "outputs": [],
   "source": [
    "def draw_graph(graph):\n",
    "\n",
    "    # extract nodes from graph\n",
    "    nodes = set([n1 for n1, n2 in graph] + [n2 for n1, n2 in graph])\n",
    "\n",
    "    # create networkx graph\n",
    "    G=nx.Graph()\n",
    "\n",
    "    # add nodes\n",
    "    for node in nodes:\n",
    "        G.add_node(node)\n",
    "\n",
    "    # add edges\n",
    "    for edge in graph:\n",
    "        G.add_edge(edge[0], edge[1])\n",
    "\n",
    "    # draw graph\n",
    "    pos = nx.spring_layout(G)\n",
    "    nx.draw(G, pos, with_labels=True)\n",
    "\n",
    "    # show graph\n",
    "    plt.show()"
   ]
  },
  {
   "cell_type": "markdown",
   "metadata": {},
   "source": [
    "### Creating graph and plotting with matplotlib"
   ]
  },
  {
   "cell_type": "code",
   "execution_count": 3,
   "metadata": {},
   "outputs": [
    {
     "data": {
      "image/png": "[encoded data removed]",
      "text/plain": [
       "<matplotlib.figure.Figure at 0x110a44be0>"
      ]
     },
     "metadata": {},
     "output_type": "display_data"
    },
    {
     "data": {
      "text/plain": [
       "<matplotlib.figure.Figure at 0x1520a6e5f8>"
      ]
     },
     "metadata": {},
     "output_type": "display_data"
    }
   ],
   "source": [
    "graph = [(4, 1),(1, 2),(2, 3), (3, 4),(4, 5), (5, 4), (4,2), (4, 2),(1, 6),(6, 3), (6, 4),(5, 5), (5, 1), (4,1)]\n",
    "draw_graph(graph)\n",
    "plt.figure(figsize=(20, 20))\n",
    "# show Graph\n",
    "plt.show()"
   ]
  },
  {
   "cell_type": "markdown",
   "metadata": {},
   "source": [
    "## Answer 2 - Harry Potter Friend-or-Enemy Graph"
   ]
  },
  {
   "cell_type": "code",
   "execution_count": 4,
   "metadata": {},
   "outputs": [],
   "source": [
    "# Generate data for edgelist and nodelist\n",
    "char1 = ['harry', 'hermoine', 'hagrid', 'dumbledore', 'draco', 'dobby', 'ron', 'voldermort', 'ron', 'ginny', 'bellatrix', 'luna', 'snape', 'umbridge', 'sirius', 'neville', 'snape', 'luna', 'hermoine', 'hermoine', 'hermoine', 'hermoine']\n",
    "char2 = ['hermoine', 'hagrid', 'dobby', 'voldermort', 'ginny', 'draco','voldermort', 'bellatrix', 'hermoine', 'harry', 'voldermort', 'sirius', 'neville', 'harry', 'hagrid', 'bellatrix', 'voldermort', 'umbridge', 'ron', 'umbridge', 'ginny', 'luna']\n",
    "\n",
    "# 1 represents a good character, 0 represents an evil character\n",
    "goodness = [1,1,1,1,0,1,1,0,1,1,0,1,1,0,1,1,1,1,1,1,1,1]\n",
    "\n",
    "# 1 represents frienship, -1 represents enmity\n",
    "f_or_e = [1,1,1,-1,-1,-1,-1,1,1,1,1,1,1,-1,-1,-1,-1,-1,1,-1,1,1]\n",
    "\n",
    "friend_enemy = pd.concat([pd.DataFrame(char1), pd.DataFrame(char2), pd.DataFrame(f_or_e)], axis=1)\n",
    "friend_enemy.columns = ['Character1', 'Character2', 'friendORenemy']\n",
    "\n",
    "nodelist = pd.concat([pd.DataFrame(char1), pd.DataFrame(goodness)], axis=1)\n",
    "nodelist.columns = ['Character', 'Goodness']\n",
    "nodelist.drop_duplicates(inplace = True)"
   ]
  },
  {
   "cell_type": "code",
   "execution_count": 5,
   "metadata": {},
   "outputs": [],
   "source": [
    "# Save the csv files\n",
    "nodelist.to_csv('nodelist.csv', index = None)\n",
    "friend_enemy.to_csv('friend_enemy.csv', index = None)"
   ]
  },
  {
   "cell_type": "code",
   "execution_count": 6,
   "metadata": {},
   "outputs": [
    {
     "name": "stdout",
     "output_type": "stream",
     "text": [
      "    Character  Goodness\n",
      "0       harry         1\n",
      "1    hermoine         1\n",
      "2      hagrid         1\n",
      "3  dumbledore         1\n",
      "4       draco         0\n",
      "   Character1  Character2  friendORenemy\n",
      "0       harry    hermoine              1\n",
      "1    hermoine      hagrid              1\n",
      "2      hagrid       dobby              1\n",
      "3  dumbledore  voldermort             -1\n",
      "4       draco       ginny             -1\n"
     ]
    }
   ],
   "source": [
    "# Read the generated data from the csv's\n",
    "nodelist = pd.read_csv('nodelist.csv')\n",
    "print(nodelist.head())\n",
    "friend_enemy = pd.read_csv('friend_enemy.csv')\n",
    "print(friend_enemy.head())"
   ]
  },
  {
   "cell_type": "code",
   "execution_count": 7,
   "metadata": {},
   "outputs": [
    {
     "data": {
      "text/plain": [
       "[('harry', 'hermoine'),\n",
       " ('hermoine', 'hagrid'),\n",
       " ('hagrid', 'dobby'),\n",
       " ('dumbledore', 'voldermort'),\n",
       " ('draco', 'ginny'),\n",
       " ('dobby', 'draco'),\n",
       " ('ron', 'voldermort'),\n",
       " ('voldermort', 'bellatrix'),\n",
       " ('ron', 'hermoine'),\n",
       " ('ginny', 'harry'),\n",
       " ('bellatrix', 'voldermort'),\n",
       " ('luna', 'sirius'),\n",
       " ('snape', 'neville'),\n",
       " ('umbridge', 'harry'),\n",
       " ('sirius', 'hagrid'),\n",
       " ('neville', 'bellatrix'),\n",
       " ('snape', 'voldermort'),\n",
       " ('luna', 'umbridge'),\n",
       " ('hermoine', 'ron'),\n",
       " ('hermoine', 'umbridge'),\n",
       " ('hermoine', 'ginny'),\n",
       " ('hermoine', 'luna')]"
      ]
     },
     "execution_count": 7,
     "metadata": {},
     "output_type": "execute_result"
    }
   ],
   "source": [
    "# Create an edge list\n",
    "hp_graph = []\n",
    "for i,j in zip(friend_enemy.Character1, friend_enemy.Character2):\n",
    "    hp_graph.append((i,j))\n",
    "hp_graph"
   ]
  },
  {
   "cell_type": "markdown",
   "metadata": {},
   "source": [
    "### Using igraph/jgraph for plotting:"
   ]
  },
  {
   "cell_type": "code",
   "execution_count": 8,
   "metadata": {},
   "outputs": [
    {
     "data": {
      "text/html": [
       "<div id=\"graph-f8ee0f27-e57c-44f3-a886-26275b8b0485\"></div>\n",
       "           <script type=\"text/javascript\">\n",
       "           require.config({baseUrl: '/',\n",
       "                             paths: {jgraph: ['nbextensions/jgraph.min', 'https://rawgit.com/patrickfuller/jgraph/master/js/build/jgraph.min']}});\n",
       "           require(['jgraph'], function () {\n",
       "               var $d = $('#graph-f8ee0f27-e57c-44f3-a886-26275b8b0485');\n",
       "               $d.width(600); $d.height(400);\n",
       "               $d.jgraph = jQuery.extend({}, jgraph);\n",
       "               $d.jgraph.create($d, {nodeSize: 2.000000,\n",
       "                                     edgeSize: 0.250000,\n",
       "                                     defaultNodeColor: '[1, 1, 1, -1, -1, -1, -1, 1, 1, 1, 1, 1, 1, -1, -1, -1, -1, -1, 1, -1, 1, 1]',\n",
       "                                     defaultEdgeColor: '0xaaaaaa',\n",
       "                                     shader: 'lambert',\n",
       "                                     z: 100,\n",
       "                                     runOptimization: true,\n",
       "                                     directed: false,\n",
       "                                     showSave: false});\n",
       "               $d.jgraph.draw({\n",
       "    \"edges\": [\n",
       "        { \"source\": \"harry\", \"target\": \"hermoine\" },\n",
       "        { \"source\": \"hermoine\", \"target\": \"hagrid\" },\n",
       "        { \"source\": \"hagrid\", \"target\": \"dobby\" },\n",
       "        { \"source\": \"dumbledore\", \"target\": \"voldermort\" },\n",
       "        { \"source\": \"draco\", \"target\": \"ginny\" },\n",
       "        { \"source\": \"dobby\", \"target\": \"draco\" },\n",
       "        { \"source\": \"ron\", \"target\": \"voldermort\" },\n",
       "        { \"source\": \"voldermort\", \"target\": \"bellatrix\" },\n",
       "        { \"source\": \"ron\", \"target\": \"hermoine\" },\n",
       "        { \"source\": \"ginny\", \"target\": \"harry\" },\n",
       "        { \"source\": \"bellatrix\", \"target\": \"voldermort\" },\n",
       "        { \"source\": \"luna\", \"target\": \"sirius\" },\n",
       "        { \"source\": \"snape\", \"target\": \"neville\" },\n",
       "        { \"source\": \"umbridge\", \"target\": \"harry\" },\n",
       "        { \"source\": \"sirius\", \"target\": \"hagrid\" },\n",
       "        { \"source\": \"neville\", \"target\": \"bellatrix\" },\n",
       "        { \"source\": \"snape\", \"target\": \"voldermort\" },\n",
       "        { \"source\": \"luna\", \"target\": \"umbridge\" },\n",
       "        { \"source\": \"hermoine\", \"target\": \"ron\" },\n",
       "        { \"source\": \"hermoine\", \"target\": \"umbridge\" },\n",
       "        { \"source\": \"hermoine\", \"target\": \"ginny\" },\n",
       "        { \"source\": \"hermoine\", \"target\": \"luna\" }\n",
       "    ],\n",
       "    \"nodes\": {\n",
       "        \"bellatrix\": { \"location\": [ -1.0905190266429348, -1.059945711612937, -0.2473622245045697 ] },\n",
       "        \"dobby\": { \"location\": [ 2.0, 2.0, 2.0 ] },\n",
       "        \"draco\": { \"location\": [ 0.42767525392954936, -0.014558895626474465, -0.6256498135747608 ] },\n",
       "        \"dumbledore\": { \"location\": [ 0.7611268398614329, 1.2165078122505981, 0.8360399490234431 ] },\n",
       "        \"ginny\": { \"location\": [ 2.0, 2.0, 2.0 ] },\n",
       "        \"hagrid\": { \"location\": [ -2.0, -2.0, -2.0 ] },\n",
       "        \"harry\": { \"location\": [ -2.0, -2.0, -2.0 ] },\n",
       "        \"hermoine\": { \"location\": [ 2.0, 2.0, 2.0 ] },\n",
       "        \"luna\": { \"location\": [ -2.0, -2.0, -2.0 ] },\n",
       "        \"neville\": { \"location\": [ 2.0, 2.0, 2.0 ] },\n",
       "        \"ron\": { \"location\": [ -1.6836580798741565, -2.0, -2.0 ] },\n",
       "        \"sirius\": { \"location\": [ -2.0, -2.0, -2.0 ] },\n",
       "        \"snape\": { \"location\": [ 2.0, 2.0, 2.0 ] },\n",
       "        \"umbridge\": { \"location\": [ -2.0, -2.0, -2.0 ] },\n",
       "        \"voldermort\": { \"location\": [ 2.0, 1.861755717881747, 2.0 ] }\n",
       "    }\n",
       "});\n",
       "\n",
       "               $d.resizable({\n",
       "                   aspectRatio: 600 / 400,\n",
       "                   resize: function (evt, ui) {\n",
       "                       $d.jgraph.renderer.setSize(ui.size.width,\n",
       "                                                  ui.size.height);\n",
       "                   }\n",
       "               });\n",
       "           });\n",
       "           </script>"
      ],
      "text/plain": [
       "<IPython.core.display.HTML object>"
      ]
     },
     "metadata": {},
     "output_type": "display_data"
    }
   ],
   "source": [
    "jgraph.draw(hp_graph, directed=False, shader='lambert', default_node_color=f_or_e)"
   ]
  },
  {
   "cell_type": "code",
   "execution_count": 9,
   "metadata": {},
   "outputs": [
    {
     "data": {
      "text/html": [
       "<div>\n",
       "<style scoped>\n",
       "    .dataframe tbody tr th:only-of-type {\n",
       "        vertical-align: middle;\n",
       "    }\n",
       "\n",
       "    .dataframe tbody tr th {\n",
       "        vertical-align: top;\n",
       "    }\n",
       "\n",
       "    .dataframe thead th {\n",
       "        text-align: right;\n",
       "    }\n",
       "</style>\n",
       "<table border=\"1\" class=\"dataframe\">\n",
       "  <thead>\n",
       "    <tr style=\"text-align: right;\">\n",
       "      <th></th>\n",
       "      <th>Character1</th>\n",
       "      <th>Character2</th>\n",
       "      <th>friendORenemy</th>\n",
       "    </tr>\n",
       "  </thead>\n",
       "  <tbody>\n",
       "    <tr>\n",
       "      <th>0</th>\n",
       "      <td>harry</td>\n",
       "      <td>hermoine</td>\n",
       "      <td>1</td>\n",
       "    </tr>\n",
       "    <tr>\n",
       "      <th>1</th>\n",
       "      <td>hermoine</td>\n",
       "      <td>hagrid</td>\n",
       "      <td>1</td>\n",
       "    </tr>\n",
       "    <tr>\n",
       "      <th>2</th>\n",
       "      <td>hagrid</td>\n",
       "      <td>dobby</td>\n",
       "      <td>1</td>\n",
       "    </tr>\n",
       "    <tr>\n",
       "      <th>3</th>\n",
       "      <td>dumbledore</td>\n",
       "      <td>voldermort</td>\n",
       "      <td>-1</td>\n",
       "    </tr>\n",
       "    <tr>\n",
       "      <th>4</th>\n",
       "      <td>draco</td>\n",
       "      <td>ginny</td>\n",
       "      <td>-1</td>\n",
       "    </tr>\n",
       "  </tbody>\n",
       "</table>\n",
       "</div>"
      ],
      "text/plain": [
       "   Character1  Character2  friendORenemy\n",
       "0       harry    hermoine              1\n",
       "1    hermoine      hagrid              1\n",
       "2      hagrid       dobby              1\n",
       "3  dumbledore  voldermort             -1\n",
       "4       draco       ginny             -1"
      ]
     },
     "execution_count": 9,
     "metadata": {},
     "output_type": "execute_result"
    }
   ],
   "source": [
    "friend_enemy[0:5]"
   ]
  },
  {
   "cell_type": "code",
   "execution_count": 10,
   "metadata": {},
   "outputs": [
    {
     "data": {
      "text/plain": [
       "[('harry', 1),\n",
       " ('hermoine', 1),\n",
       " ('hagrid', 1),\n",
       " ('dumbledore', 1),\n",
       " ('draco', 0),\n",
       " ('dobby', 1),\n",
       " ('ron', 1),\n",
       " ('voldermort', 0),\n",
       " ('ron', 1),\n",
       " ('ginny', 1),\n",
       " ('bellatrix', 0),\n",
       " ('luna', 1),\n",
       " ('snape', 1),\n",
       " ('umbridge', 0),\n",
       " ('sirius', 1),\n",
       " ('neville', 1),\n",
       " ('snape', 1),\n",
       " ('luna', 1),\n",
       " ('hermoine', 1),\n",
       " ('hermoine', 1),\n",
       " ('hermoine', 1),\n",
       " ('hermoine', 1)]"
      ]
     },
     "execution_count": 10,
     "metadata": {},
     "output_type": "execute_result"
    }
   ],
   "source": [
    "# Create a nodelist\n",
    "nodelist1 = []\n",
    "for i,j in zip(friend_enemy.Character1, goodness):\n",
    "    nodelist1.append((i,j))\n",
    "nodelist1"
   ]
  },
  {
   "cell_type": "code",
   "execution_count": 11,
   "metadata": {},
   "outputs": [],
   "source": [
    "# Create a graph\n",
    "g = nx.Graph()\n",
    "g.add_edges_from(hp_graph)"
   ]
  },
  {
   "cell_type": "code",
   "execution_count": 12,
   "metadata": {},
   "outputs": [
    {
     "data": {
      "text/plain": [
       "{'bellatrix': 0,\n",
       " 'dobby': 1,\n",
       " 'draco': 0,\n",
       " 'dumbledore': 1,\n",
       " 'ginny': 1,\n",
       " 'hagrid': 1,\n",
       " 'harry': 1,\n",
       " 'hermoine': 1,\n",
       " 'luna': 1,\n",
       " 'neville': 1,\n",
       " 'ron': 1,\n",
       " 'sirius': 1,\n",
       " 'snape': 1,\n",
       " 'umbridge': 0,\n",
       " 'voldermort': 0}"
      ]
     },
     "execution_count": 12,
     "metadata": {},
     "output_type": "execute_result"
    }
   ],
   "source": [
    "dict(nodelist1)"
   ]
  },
  {
   "cell_type": "markdown",
   "metadata": {},
   "source": [
    "### Plotting Kamada Kawai and Spring Layout using networkx and matpltolib"
   ]
  },
  {
   "cell_type": "code",
   "execution_count": 13,
   "metadata": {
    "scrolled": true
   },
   "outputs": [
    {
     "data": {
      "image/png": "[encoded data removed]",
      "text/plain": [
       "<matplotlib.figure.Figure at 0x1520ae0f28>"
      ]
     },
     "metadata": {},
     "output_type": "display_data"
    }
   ],
   "source": [
    "#  Kamada Kawai Layout\n",
    "values = [dict(nodelist1).get(node, 0.75) for node in g.nodes()]\n",
    "# values2 = [(f_or_e).get(node, 0.25) for node in g.nodes()]\n",
    "nx.draw(g, cmap=plt.get_cmap('Wistia'), node_color=values, with_labels = True)\n",
    "plt.title('Kamada Kawai Layout')\n",
    "plt.show()"
   ]
  },
  {
   "cell_type": "code",
   "execution_count": 14,
   "metadata": {
    "scrolled": true
   },
   "outputs": [
    {
     "data": {
      "image/png": "[encoded data removed]",
      "text/plain": [
       "<matplotlib.figure.Figure at 0x1520ae04a8>"
      ]
     },
     "metadata": {},
     "output_type": "display_data"
    },
    {
     "data": {
      "text/plain": [
       "<matplotlib.figure.Figure at 0x1520ce6b70>"
      ]
     },
     "metadata": {},
     "output_type": "display_data"
    }
   ],
   "source": [
    "# Spring Layout\n",
    "pos = nx.spring_layout(g)\n",
    "nx.draw_circular(g, with_labels = True, node_color = values)\n",
    "plt.title('Spring Layout')\n",
    "plt.figure(figsize=(20, 20))\n",
    "# show Graph\n",
    "plt.show()"
   ]
  },
  {
   "cell_type": "markdown",
   "metadata": {},
   "source": [
    "### Plotting Fruchterman Reingold layout in Plotly"
   ]
  },
  {
   "cell_type": "code",
   "execution_count": 32,
   "metadata": {},
   "outputs": [
    {
     "data": {
      "text/html": [
       "<script>requirejs.config({paths: { 'plotly': ['https://cdn.plot.ly/plotly-latest.min']},});if(!window.Plotly) {{require(['plotly'],function(plotly) {window.Plotly=plotly;});}}</script>"
      ],
      "text/vnd.plotly.v1+html": [
       "<script>requirejs.config({paths: { 'plotly': ['https://cdn.plot.ly/plotly-latest.min']},});if(!window.Plotly) {{require(['plotly'],function(plotly) {window.Plotly=plotly;});}}</script>"
      ]
     },
     "metadata": {},
     "output_type": "display_data"
    },
    {
     "data": {
      "application/vnd.plotly.v1+json": {
       "data": [
        {
         "hoverinfo": "none",
         "line": {
          "color": "rgb(210,210,210)",
          "width": 1
         },
         "mode": "lines",
         "type": "scatter",
         "x": [
          -0.3126981764335638,
          -0.24412858520271996,
          null,
          -0.24412858520271996,
          -0.49918967793596225,
          null,
          -0.49918967793596225,
          -0.3651521031512091,
          null,
          0.39752233028709455,
          0.4862756928593983,
          null,
          -0.1744242297306471,
          -0.16841777542929895,
          null,
          -0.3651521031512091,
          -0.1744242297306471,
          null,
          0.12886016616703888,
          0.4862756928593983,
          null,
          0.4862756928593983,
          0.8225177445519285,
          null,
          0.12886016616703888,
          -0.24412858520271996,
          null,
          -0.16841777542929895,
          -0.3126981764335638,
          null,
          0.8225177445519285,
          0.4862756928593983,
          null,
          -0.6053101581546232,
          -0.7810415304661668,
          null,
          0.7491577470225165,
          1,
          null,
          -0.4339714443837852,
          -0.3126981764335638,
          null,
          -0.7810415304661668,
          -0.49918967793596225,
          null,
          1,
          0.8225177445519285,
          null,
          0.7491577470225165,
          0.4862756928593983,
          null,
          -0.6053101581546232,
          -0.4339714443837852,
          null,
          -0.24412858520271996,
          0.12886016616703888,
          null,
          -0.24412858520271996,
          -0.4339714443837852,
          null,
          -0.24412858520271996,
          -0.16841777542929895,
          null,
          -0.24412858520271996,
          -0.6053101581546232,
          null
         ],
         "y": [
          0.30167880020263166,
          0.16923574372282268,
          null,
          0.16923574372282268,
          0.4940769478628683,
          null,
          0.4940769478628683,
          0.7955277926922381,
          null,
          -0.841379340955538,
          -0.5553719161272495,
          null,
          0.8732085443354352,
          0.5214418225949227,
          null,
          0.7955277926922381,
          0.8732085443354352,
          null,
          -0.2031024504368025,
          -0.5553719161272495,
          null,
          -0.5553719161272495,
          -0.5896644839730164,
          null,
          -0.2031024504368025,
          0.16923574372282268,
          null,
          0.5214418225949227,
          0.30167880020263166,
          null,
          -0.5896644839730164,
          -0.5553719161272495,
          null,
          0.15798396367156606,
          0.3790600414818621,
          null,
          -0.7838502389707782,
          -0.7823119411157446,
          null,
          0.0634667150147819,
          0.30167880020263166,
          null,
          0.3790600414818621,
          0.4940769478628683,
          null,
          -0.7823119411157446,
          -0.5896644839730164,
          null,
          -0.7838502389707782,
          -0.5553719161272495,
          null,
          0.15798396367156606,
          0.0634667150147819,
          null,
          0.16923574372282268,
          -0.2031024504368025,
          null,
          0.16923574372282268,
          0.0634667150147819,
          null,
          0.16923574372282268,
          0.5214418225949227,
          null,
          0.16923574372282268,
          0.15798396367156606,
          null
         ]
        },
        {
         "hoverinfo": "text",
         "marker": {
          "color": "#6959CD",
          "line": {
           "color": "rgb(50,50,50)",
           "width": 1
          },
          "size": 10,
          "symbol": "dot"
         },
         "mode": "markers",
         "name": "net",
         "text": [
          "harry",
          "hermoine",
          "hagrid",
          "dobby",
          "dumbledore",
          "voldermort",
          "draco",
          "ginny",
          "ron",
          "bellatrix",
          "luna",
          "sirius",
          "snape",
          "neville",
          "umbridge"
         ],
         "type": "scatter",
         "x": [
          -0.3126981764335638,
          -0.24412858520271996,
          -0.49918967793596225,
          0.39752233028709455,
          -0.1744242297306471,
          -0.3651521031512091,
          0.12886016616703888,
          0.4862756928593983,
          -0.16841777542929895,
          0.8225177445519285,
          -0.6053101581546232,
          0.7491577470225165,
          -0.4339714443837852,
          -0.7810415304661668,
          1
         ],
         "y": [
          0.30167880020263166,
          0.16923574372282268,
          0.4940769478628683,
          -0.841379340955538,
          0.8732085443354352,
          0.7955277926922381,
          -0.2031024504368025,
          -0.5553719161272495,
          0.5214418225949227,
          -0.5896644839730164,
          0.15798396367156606,
          -0.7838502389707782,
          0.0634667150147819,
          0.3790600414818621,
          -0.7823119411157446
         ]
        }
       ],
       "layout": {
        "annotations": [
         {
          "font": {
           "size": 14
          },
          "showarrow": false,
          "text": "Fruchterman Reingold layout",
          "x": 0,
          "xanchor": "left",
          "xref": "paper",
          "y": -0.1,
          "yanchor": "bottom",
          "yref": "paper"
         }
        ],
        "autosize": false,
        "font": {
         "size": 12
        },
        "height": 800,
        "hovermode": "closest",
        "margin": {
         "b": 85,
         "l": 40,
         "r": 40,
         "t": 100
        },
        "showlegend": false,
        "title": "Harry Potter friend-enemy graph",
        "width": 800,
        "xaxis": {
         "showgrid": false,
         "showline": false,
         "showticklabels": false,
         "title": "",
         "zeroline": false
        },
        "yaxis": {
         "showgrid": false,
         "showline": false,
         "showticklabels": false,
         "title": "",
         "zeroline": false
        }
       }
      },
      "text/html": [
       "<div id=\"119c5533-1cb6-48dc-bdc9-0097cea9dc11\" style=\"height: 800px; width: 800px;\" class=\"plotly-graph-div\"></div><script type=\"text/javascript\">require([\"plotly\"], function(Plotly) { window.PLOTLYENV=window.PLOTLYENV || {};window.PLOTLYENV.BASE_URL=\"https://plot.ly\";Plotly.newPlot(\"119c5533-1cb6-48dc-bdc9-0097cea9dc11\", [{\"type\": \"scatter\", \"x\": [-0.3126981764335638, -0.24412858520271996, null, -0.24412858520271996, -0.49918967793596225, null, -0.49918967793596225, -0.3651521031512091, null, 0.39752233028709455, 0.4862756928593983, null, -0.1744242297306471, -0.16841777542929895, null, -0.3651521031512091, -0.1744242297306471, null, 0.12886016616703888, 0.4862756928593983, null, 0.4862756928593983, 0.8225177445519285, null, 0.12886016616703888, -0.24412858520271996, null, -0.16841777542929895, -0.3126981764335638, null, 0.8225177445519285, 0.4862756928593983, null, -0.6053101581546232, -0.7810415304661668, null, 0.7491577470225165, 1.0, null, -0.4339714443837852, -0.3126981764335638, null, -0.7810415304661668, -0.49918967793596225, null, 1.0, 0.8225177445519285, null, 0.7491577470225165, 0.4862756928593983, null, -0.6053101581546232, -0.4339714443837852, null, -0.24412858520271996, 0.12886016616703888, null, -0.24412858520271996, -0.4339714443837852, null, -0.24412858520271996, -0.16841777542929895, null, -0.24412858520271996, -0.6053101581546232, null], \"y\": [0.30167880020263166, 0.16923574372282268, null, 0.16923574372282268, 0.4940769478628683, null, 0.4940769478628683, 0.7955277926922381, null, -0.841379340955538, -0.5553719161272495, null, 0.8732085443354352, 0.5214418225949227, null, 0.7955277926922381, 0.8732085443354352, null, -0.2031024504368025, -0.5553719161272495, null, -0.5553719161272495, -0.5896644839730164, null, -0.2031024504368025, 0.16923574372282268, null, 0.5214418225949227, 0.30167880020263166, null, -0.5896644839730164, -0.5553719161272495, null, 0.15798396367156606, 0.3790600414818621, null, -0.7838502389707782, -0.7823119411157446, null, 0.0634667150147819, 0.30167880020263166, null, 0.3790600414818621, 0.4940769478628683, null, -0.7823119411157446, -0.5896644839730164, null, -0.7838502389707782, -0.5553719161272495, null, 0.15798396367156606, 0.0634667150147819, null, 0.16923574372282268, -0.2031024504368025, null, 0.16923574372282268, 0.0634667150147819, null, 0.16923574372282268, 0.5214418225949227, null, 0.16923574372282268, 0.15798396367156606, null], \"mode\": \"lines\", \"line\": {\"color\": \"rgb(210,210,210)\", \"width\": 1}, \"hoverinfo\": \"none\"}, {\"type\": \"scatter\", \"x\": [-0.3126981764335638, -0.24412858520271996, -0.49918967793596225, 0.39752233028709455, -0.1744242297306471, -0.3651521031512091, 0.12886016616703888, 0.4862756928593983, -0.16841777542929895, 0.8225177445519285, -0.6053101581546232, 0.7491577470225165, -0.4339714443837852, -0.7810415304661668, 1.0], \"y\": [0.30167880020263166, 0.16923574372282268, 0.4940769478628683, -0.841379340955538, 0.8732085443354352, 0.7955277926922381, -0.2031024504368025, -0.5553719161272495, 0.5214418225949227, -0.5896644839730164, 0.15798396367156606, -0.7838502389707782, 0.0634667150147819, 0.3790600414818621, -0.7823119411157446], \"mode\": \"markers\", \"name\": \"net\", \"marker\": {\"symbol\": \"dot\", \"size\": 10, \"color\": \"#6959CD\", \"line\": {\"color\": \"rgb(50,50,50)\", \"width\": 1}}, \"text\": [\"harry\", \"hermoine\", \"hagrid\", \"dobby\", \"dumbledore\", \"voldermort\", \"draco\", \"ginny\", \"ron\", \"bellatrix\", \"luna\", \"sirius\", \"snape\", \"neville\", \"umbridge\"], \"hoverinfo\": \"text\"}], {\"title\": \"Harry Potter friend-enemy graph\", \"font\": {\"size\": 12}, \"showlegend\": false, \"autosize\": false, \"width\": 800, \"height\": 800, \"xaxis\": {\"showline\": false, \"zeroline\": false, \"showgrid\": false, \"showticklabels\": false, \"title\": \"\"}, \"yaxis\": {\"showline\": false, \"zeroline\": false, \"showgrid\": false, \"showticklabels\": false, \"title\": \"\"}, \"margin\": {\"l\": 40, \"r\": 40, \"b\": 85, \"t\": 100}, \"hovermode\": \"closest\", \"annotations\": [{\"showarrow\": false, \"text\": \"Fruchterman Reingold layout\", \"xref\": \"paper\", \"yref\": \"paper\", \"x\": 0, \"y\": -0.1, \"xanchor\": \"left\", \"yanchor\": \"bottom\", \"font\": {\"size\": 14}}]}, {\"showLink\": true, \"linkText\": \"Export to plot.ly\"})});</script>"
      ],
      "text/vnd.plotly.v1+html": [
       "<div id=\"119c5533-1cb6-48dc-bdc9-0097cea9dc11\" style=\"height: 800px; width: 800px;\" class=\"plotly-graph-div\"></div><script type=\"text/javascript\">require([\"plotly\"], function(Plotly) { window.PLOTLYENV=window.PLOTLYENV || {};window.PLOTLYENV.BASE_URL=\"https://plot.ly\";Plotly.newPlot(\"119c5533-1cb6-48dc-bdc9-0097cea9dc11\", [{\"type\": \"scatter\", \"x\": [-0.3126981764335638, -0.24412858520271996, null, -0.24412858520271996, -0.49918967793596225, null, -0.49918967793596225, -0.3651521031512091, null, 0.39752233028709455, 0.4862756928593983, null, -0.1744242297306471, -0.16841777542929895, null, -0.3651521031512091, -0.1744242297306471, null, 0.12886016616703888, 0.4862756928593983, null, 0.4862756928593983, 0.8225177445519285, null, 0.12886016616703888, -0.24412858520271996, null, -0.16841777542929895, -0.3126981764335638, null, 0.8225177445519285, 0.4862756928593983, null, -0.6053101581546232, -0.7810415304661668, null, 0.7491577470225165, 1.0, null, -0.4339714443837852, -0.3126981764335638, null, -0.7810415304661668, -0.49918967793596225, null, 1.0, 0.8225177445519285, null, 0.7491577470225165, 0.4862756928593983, null, -0.6053101581546232, -0.4339714443837852, null, -0.24412858520271996, 0.12886016616703888, null, -0.24412858520271996, -0.4339714443837852, null, -0.24412858520271996, -0.16841777542929895, null, -0.24412858520271996, -0.6053101581546232, null], \"y\": [0.30167880020263166, 0.16923574372282268, null, 0.16923574372282268, 0.4940769478628683, null, 0.4940769478628683, 0.7955277926922381, null, -0.841379340955538, -0.5553719161272495, null, 0.8732085443354352, 0.5214418225949227, null, 0.7955277926922381, 0.8732085443354352, null, -0.2031024504368025, -0.5553719161272495, null, -0.5553719161272495, -0.5896644839730164, null, -0.2031024504368025, 0.16923574372282268, null, 0.5214418225949227, 0.30167880020263166, null, -0.5896644839730164, -0.5553719161272495, null, 0.15798396367156606, 0.3790600414818621, null, -0.7838502389707782, -0.7823119411157446, null, 0.0634667150147819, 0.30167880020263166, null, 0.3790600414818621, 0.4940769478628683, null, -0.7823119411157446, -0.5896644839730164, null, -0.7838502389707782, -0.5553719161272495, null, 0.15798396367156606, 0.0634667150147819, null, 0.16923574372282268, -0.2031024504368025, null, 0.16923574372282268, 0.0634667150147819, null, 0.16923574372282268, 0.5214418225949227, null, 0.16923574372282268, 0.15798396367156606, null], \"mode\": \"lines\", \"line\": {\"color\": \"rgb(210,210,210)\", \"width\": 1}, \"hoverinfo\": \"none\"}, {\"type\": \"scatter\", \"x\": [-0.3126981764335638, -0.24412858520271996, -0.49918967793596225, 0.39752233028709455, -0.1744242297306471, -0.3651521031512091, 0.12886016616703888, 0.4862756928593983, -0.16841777542929895, 0.8225177445519285, -0.6053101581546232, 0.7491577470225165, -0.4339714443837852, -0.7810415304661668, 1.0], \"y\": [0.30167880020263166, 0.16923574372282268, 0.4940769478628683, -0.841379340955538, 0.8732085443354352, 0.7955277926922381, -0.2031024504368025, -0.5553719161272495, 0.5214418225949227, -0.5896644839730164, 0.15798396367156606, -0.7838502389707782, 0.0634667150147819, 0.3790600414818621, -0.7823119411157446], \"mode\": \"markers\", \"name\": \"net\", \"marker\": {\"symbol\": \"dot\", \"size\": 10, \"color\": \"#6959CD\", \"line\": {\"color\": \"rgb(50,50,50)\", \"width\": 1}}, \"text\": [\"harry\", \"hermoine\", \"hagrid\", \"dobby\", \"dumbledore\", \"voldermort\", \"draco\", \"ginny\", \"ron\", \"bellatrix\", \"luna\", \"sirius\", \"snape\", \"neville\", \"umbridge\"], \"hoverinfo\": \"text\"}], {\"title\": \"Harry Potter friend-enemy graph\", \"font\": {\"size\": 12}, \"showlegend\": false, \"autosize\": false, \"width\": 800, \"height\": 800, \"xaxis\": {\"showline\": false, \"zeroline\": false, \"showgrid\": false, \"showticklabels\": false, \"title\": \"\"}, \"yaxis\": {\"showline\": false, \"zeroline\": false, \"showgrid\": false, \"showticklabels\": false, \"title\": \"\"}, \"margin\": {\"l\": 40, \"r\": 40, \"b\": 85, \"t\": 100}, \"hovermode\": \"closest\", \"annotations\": [{\"showarrow\": false, \"text\": \"Fruchterman Reingold layout\", \"xref\": \"paper\", \"yref\": \"paper\", \"x\": 0, \"y\": -0.1, \"xanchor\": \"left\", \"yanchor\": \"bottom\", \"font\": {\"size\": 14}}]}, {\"showLink\": true, \"linkText\": \"Export to plot.ly\"})});</script>"
      ]
     },
     "metadata": {},
     "output_type": "display_data"
    }
   ],
   "source": [
    "init_notebook_mode(True)\n",
    "\n",
    "\n",
    "pos = nx.fruchterman_reingold_layout(g)\n",
    "\n",
    "N = len(nodelist.Character)\n",
    "\n",
    "Xv = [pos[k][0] for k in nodelist.Character]\n",
    "Yv = [pos[k][1] for k in nodelist.Character]\n",
    "Xed = []\n",
    "Yed = []\n",
    "\n",
    "for edge in hp_graph:\n",
    "    Xed += [pos[edge[0]][0], pos[edge[1]][0], None]\n",
    "    Yed += [pos[edge[0]][1], pos[edge[1]][1], None]\n",
    "\n",
    "labels = list(g.nodes)\n",
    "\n",
    "trace3 = Scatter(\n",
    "    x=Xed,\n",
    "    y=Yed,\n",
    "    mode='lines',\n",
    "    line=Line(color='rgb(210,210,210)', width=1),\n",
    "    hoverinfo='none')\n",
    "trace4 = Scatter(\n",
    "    x=Xv,\n",
    "    y=Yv,\n",
    "    mode='markers',\n",
    "    name='net',\n",
    "    marker=Marker(\n",
    "        symbol='dot',\n",
    "        size=10,\n",
    "        color='#6959CD',\n",
    "        line=Line(color='rgb(50,50,50)', width=1)),\n",
    "    text=labels,\n",
    "    hoverinfo='text')\n",
    "\n",
    "axis = dict(\n",
    "    showline=False,  # hide axis line, grid, ticklabels and  title\n",
    "    zeroline=False,\n",
    "    showgrid=False,\n",
    "    showticklabels=False,\n",
    "    title='')\n",
    "\n",
    "width = 800\n",
    "height = 800\n",
    "layout = Layout(\n",
    "    title=\"Harry Potter friend-enemy graph\",\n",
    "    font=Font(size=12),\n",
    "    showlegend=False,\n",
    "    autosize=False,\n",
    "    width=width,\n",
    "    height=height,\n",
    "    xaxis=XAxis(axis),\n",
    "    yaxis=YAxis(axis),\n",
    "    margin=Margin(\n",
    "        l=40,\n",
    "        r=40,\n",
    "        b=85,\n",
    "        t=100,\n",
    "    ),\n",
    "    hovermode='closest',\n",
    "    annotations=Annotations([\n",
    "        Annotation(\n",
    "            showarrow=False,\n",
    "            text='Fruchterman Reingold layout',\n",
    "            xref='paper',\n",
    "            yref='paper',\n",
    "            x=0,\n",
    "            y=-0.1,\n",
    "            xanchor='left',\n",
    "            yanchor='bottom',\n",
    "            font=Font(size=14))\n",
    "    ]),\n",
    ")\n",
    "\n",
    "annot = \"Fruchterman Reingold layout\"\n",
    "\n",
    "data1 = Data([trace3, trace4])\n",
    "fig1 = Figure(data=data1, layout=layout)\n",
    "fig1['layout']['annotations'][0]['text'] = annot\n",
    "iplot(fig1)"
   ]
  },
  {
   "cell_type": "markdown",
   "metadata": {},
   "source": [
    "### Properties of this network"
   ]
  },
  {
   "cell_type": "code",
   "execution_count": 33,
   "metadata": {},
   "outputs": [
    {
     "name": "stdout",
     "output_type": "stream",
     "text": [
      "Name: \n",
      "Type: Graph\n",
      "Number of nodes: 15\n",
      "Number of edges: 20\n",
      "Average degree:   2.6667\n"
     ]
    }
   ],
   "source": [
    "print(nx.info(g))"
   ]
  },
  {
   "cell_type": "code",
   "execution_count": 34,
   "metadata": {},
   "outputs": [
    {
     "data": {
      "text/plain": [
       "6"
      ]
     },
     "execution_count": 34,
     "metadata": {},
     "output_type": "execute_result"
    }
   ],
   "source": [
    "nx.diameter(g)"
   ]
  },
  {
   "cell_type": "code",
   "execution_count": 35,
   "metadata": {},
   "outputs": [
    {
     "name": "stdout",
     "output_type": "stream",
     "text": [
      "Network density: 0.19047619047619047\n"
     ]
    }
   ],
   "source": [
    "density = nx.density(g)\n",
    "print(\"Network density:\", density)"
   ]
  },
  {
   "cell_type": "markdown",
   "metadata": {},
   "source": [
    "### Find and plot shortest path between Hagrid and Bellatrix"
   ]
  },
  {
   "cell_type": "code",
   "execution_count": 36,
   "metadata": {
    "scrolled": true
   },
   "outputs": [
    {
     "name": "stdout",
     "output_type": "stream",
     "text": [
      "Shortest path between Hagird and Bellatrix: ['hagrid', 'hermoine', 'ron', 'voldermort', 'bellatrix']\n",
      "Length of that path: 4\n"
     ]
    }
   ],
   "source": [
    "hagrid_to_bellatrix = nx.shortest_path(g, source=\"hagrid\", target=\"bellatrix\")\n",
    "\n",
    "print(\"Shortest path between Hagird and Bellatrix:\", hagrid_to_bellatrix)\n",
    "print(\"Length of that path:\", len(hagrid_to_bellatrix) - 1)"
   ]
  },
  {
   "cell_type": "code",
   "execution_count": 37,
   "metadata": {},
   "outputs": [
    {
     "data": {
      "image/png": "[encoded data removed]",
      "text/plain": [
       "<matplotlib.figure.Figure at 0x1520da95c0>"
      ]
     },
     "metadata": {},
     "output_type": "display_data"
    }
   ],
   "source": [
    "g = nx.Graph()\n",
    "g.add_edges_from(hp_graph)\n",
    "pos = nx.spring_layout(g)\n",
    "nx.draw(g,pos,node_color='y')\n",
    "# draw path in red\n",
    "labels = {}\n",
    "path = nx.shortest_path(g, source='hagrid',target='bellatrix')\n",
    "\n",
    "# labels[0] = 'hagrid'\n",
    "# labels[1] = 'hermoine'\n",
    "# labels[2] = 'harry'\n",
    "path_edges = zip(path,path[1:])\n",
    "nx.draw_networkx_nodes(g,pos,nodelist=path,node_color='r', node_label = False)\n",
    "nx.draw_networkx_edges(g,pos,edgelist=list(path_edges),edge_color='r',width=10, label = False)\n",
    "nx.draw_networkx_labels(g,pos)\n",
    "\n",
    "plt.axis('equal')\n",
    "plt.show()"
   ]
  },
  {
   "cell_type": "code",
   "execution_count": 38,
   "metadata": {},
   "outputs": [
    {
     "name": "stdout",
     "output_type": "stream",
     "text": [
      "Triadic closure: 0.20930232558139536\n"
     ]
    }
   ],
   "source": [
    "triadic_closure = nx.transitivity(g)\n",
    "print(\"Triadic closure:\", triadic_closure)"
   ]
  },
  {
   "cell_type": "code",
   "execution_count": 39,
   "metadata": {},
   "outputs": [],
   "source": [
    "degree_dict = dict(g.degree(g.nodes()))\n",
    "nx.set_node_attributes(g, degree_dict, 'degree')"
   ]
  },
  {
   "cell_type": "code",
   "execution_count": 40,
   "metadata": {},
   "outputs": [
    {
     "name": "stdout",
     "output_type": "stream",
     "text": [
      "Top 3 nodes by degree:\n",
      "('hermoine', 6)\n",
      "('voldermort', 4)\n",
      "('harry', 3)\n"
     ]
    }
   ],
   "source": [
    "sorted_degree = sorted(degree_dict.items(), key=itemgetter(1), reverse=True)\n",
    "print(\"Top 3 nodes by degree:\")\n",
    "for d in sorted_degree[:3]:\n",
    "    print(d)"
   ]
  },
  {
   "cell_type": "code",
   "execution_count": 41,
   "metadata": {},
   "outputs": [
    {
     "name": "stdout",
     "output_type": "stream",
     "text": [
      "Top 3 nodes by betweenness centrality:\n",
      "('hermoine', 0.6446886446886447)\n",
      "('ron', 0.4945054945054945)\n",
      "('voldermort', 0.47802197802197804)\n"
     ]
    }
   ],
   "source": [
    "betweenness_dict = nx.betweenness_centrality(g) # Run betweenness centrality\n",
    "eigenvector_dict = nx.eigenvector_centrality(g) # Run eigenvector centrality\n",
    "\n",
    "# Assign each to an attribute in your network\n",
    "nx.set_node_attributes(g, betweenness_dict, 'betweenness')\n",
    "nx.set_node_attributes(g, eigenvector_dict, 'eigenvector')\n",
    "sorted_betweenness = sorted(betweenness_dict.items(), key=itemgetter(1), reverse=True)\n",
    "print(\"Top 3 nodes by betweenness centrality:\")\n",
    "for b in sorted_betweenness[:3]:\n",
    "    print(b)"
   ]
  },
  {
   "cell_type": "code",
   "execution_count": 42,
   "metadata": {},
   "outputs": [
    {
     "name": "stdout",
     "output_type": "stream",
     "text": [
      "Top 3 nodes by eigen vector centrality:\n",
      "('hermoine', 0.5616822737229703)\n",
      "('umbridge', 0.3834796700350752)\n",
      "('harry', 0.38001543878214505)\n"
     ]
    }
   ],
   "source": [
    "sorted_eigen = sorted(eigenvector_dict.items(), key=itemgetter(1), reverse=True)\n",
    "\n",
    "print(\"Top 3 nodes by eigen vector centrality:\")\n",
    "for b in sorted_eigen[:3]:\n",
    "    print(b)"
   ]
  },
  {
   "cell_type": "markdown",
   "metadata": {},
   "source": [
    "Here we can see that by both the centrality measures, the central nodes are different. This is because they measure different forms of centrality. **Betweenness measure how well connected (in between) a node is** in a graph, while the **eigen vector method computes centrality based on the degrees of the connecting nodes**. Thus, in the former, the 3 main links between the 2 clusters - Hermoine, Ron and Voldermort - are the 'central' nodes. In the eigen method, the most connected nodes - Hermoine, Umbridge and Harry - are the 'central' nodes."
   ]
  },
  {
   "cell_type": "code",
   "execution_count": null,
   "metadata": {},
   "outputs": [],
   "source": []
  }
 ],
 "metadata": {
  "kernelspec": {
   "display_name": "Python 3",
   "language": "python",
   "name": "python3"
  },
  "language_info": {
   "codemirror_mode": {
    "name": "ipython",
    "version": 3
   },
   "file_extension": ".py",
   "mimetype": "text/x-python",
   "name": "python",
   "nbconvert_exporter": "python",
   "pygments_lexer": "ipython3",
   "version": "3.6.3"
  }
 },
 "nbformat": 4,
 "nbformat_minor": 2
}
